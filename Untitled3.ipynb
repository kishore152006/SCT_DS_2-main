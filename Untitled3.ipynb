{
  "cells": [
    {
      "cell_type": "markdown",
      "metadata": {
        "id": "view-in-github",
        "colab_type": "text"
      },
      "source": [
        "<a href=\"https://colab.research.google.com/github/kishore152006/SCT_DS_2-main/blob/main/Untitled3.ipynb\" target=\"_parent\"><img src=\"https://colab.research.google.com/assets/colab-badge.svg\" alt=\"Open In Colab\"/></a>"
      ]
    },
    {
      "cell_type": "markdown",
      "metadata": {
        "id": "wP8fKfa3KVop"
      },
      "source": []
    },
    {
      "cell_type": "markdown",
      "metadata": {
        "id": "7soQrBzsOEL_"
      },
      "source": []
    },
    {
      "cell_type": "markdown",
      "metadata": {
        "id": "-QejKxdMOHtl"
      },
      "source": [
        "# **Read Data and Understanding**"
      ]
    },
    {
      "cell_type": "markdown",
      "metadata": {
        "id": "goTQcq_KOOMG"
      },
      "source": []
    },
    {
      "cell_type": "code",
      "execution_count": null,
      "metadata": {
        "id": "kE4uXjJ4OTbb"
      },
      "outputs": [],
      "source": [
        "import matplotlib.pyplot as plt\n",
        "import pandas as pd\n",
        "import numpy as np\n",
        "import seaborn as sns\n",
        "\n",
        "\n",
        "#plt.style.use('ggplot')\n",
        "#pd.set_option('max_columns',200)\n",
        "\n",
        "\n",
        "\n",
        "df = pd.read_csv('/content/retail_store_sales.csv')\n",
        "df.shape"
      ]
    },
    {
      "cell_type": "code",
      "execution_count": null,
      "metadata": {
        "collapsed": true,
        "id": "F3VYBOktTxSQ"
      },
      "outputs": [],
      "source": [
        "df.head(5)"
      ]
    },
    {
      "cell_type": "code",
      "execution_count": null,
      "metadata": {
        "id": "-gH9NKrHT-9J"
      },
      "outputs": [],
      "source": [
        "df.columns"
      ]
    },
    {
      "cell_type": "code",
      "execution_count": null,
      "metadata": {
        "id": "Gp5_xiNQU4SN"
      },
      "outputs": [],
      "source": [
        "df.describe()"
      ]
    },
    {
      "cell_type": "markdown",
      "metadata": {
        "id": "kKHzskJUVJIG"
      },
      "source": [
        "# ****Data Preparation****"
      ]
    },
    {
      "cell_type": "code",
      "execution_count": null,
      "metadata": {
        "id": "3LImav2UVfO-"
      },
      "outputs": [],
      "source": [
        "df['Transaction Date'] = pd.to_datetime(df['Transaction Date'])\n",
        "df['Quantity'] = pd.to_numeric(df['Quantity'])\n",
        "df['Discount Applied'] = df['Discount Applied'].astype(bool)\n",
        "df.dtypes"
      ]
    },
    {
      "cell_type": "code",
      "execution_count": null,
      "metadata": {
        "collapsed": true,
        "id": "yubbF3VtXX6b"
      },
      "outputs": [],
      "source": [
        "df = df.rename(columns={'Item':'Product','Price Per Unit':'Unit_Cost','Total Spent':'Total_Expenditure'})"
      ]
    },
    {
      "cell_type": "code",
      "execution_count": null,
      "metadata": {
        "id": "jtrxML-QZmap"
      },
      "outputs": [],
      "source": [
        "df.isna().sum()\n"
      ]
    },
    {
      "cell_type": "code",
      "execution_count": null,
      "metadata": {
        "colab": {
          "base_uri": "https://localhost:8080/"
        },
        "id": "A3ZI9xB4bChK",
        "outputId": "797e3e42-5b38-4001-bcf1-2c41e7780798"
      },
      "outputs": [
        {
          "data": {
            "text/plain": [
              "np.int64(0)"
            ]
          },
          "execution_count": 56,
          "metadata": {},
          "output_type": "execute_result"
        }
      ],
      "source": [
        "df.duplicated().sum()"
      ]
    },
    {
      "cell_type": "code",
      "execution_count": null,
      "metadata": {
        "colab": {
          "base_uri": "https://localhost:8080/"
        },
        "id": "xgjk-UfUbHm4",
        "outputId": "3a1a4007-e33e-4702-b955-08a68b911d70"
      },
      "outputs": [
        {
          "data": {
            "text/plain": [
              "np.int64(0)"
            ]
          },
          "execution_count": 45,
          "metadata": {},
          "output_type": "execute_result"
        }
      ],
      "source": [
        "#Checking for duplicates using transaction ID\n",
        "df.duplicated(subset=['Transaction ID']).sum()"
      ]
    },
    {
      "cell_type": "markdown",
      "metadata": {
        "id": "FOJFHT9yThmw"
      },
      "source": []
    },
    {
      "cell_type": "markdown",
      "metadata": {
        "id": "sqWhye6Uc8Oh"
      },
      "source": [
        "# **Feature Understanding**"
      ]
    },
    {
      "cell_type": "code",
      "execution_count": null,
      "metadata": {
        "id": "jpV64z34dE5G"
      },
      "outputs": [],
      "source": [
        "ax = df['Transaction Date'].value_counts().head(10).plot(kind= 'bar',title = 'Sales Till Now')\n",
        "ax.set_xlabel('Date')\n",
        "ax.set_ylabel('Sales')\n",
        "plt.show()"
      ]
    },
    {
      "cell_type": "code",
      "execution_count": null,
      "metadata": {
        "id": "ARf1mhnsf1_n"
      },
      "outputs": [],
      "source": [
        "ay = df['Payment Method'].value_counts().head().plot(kind='pie',title='Payment Method')\n",
        "ay.set_ylabel('')\n",
        "plt.show()"
      ]
    },
    {
      "cell_type": "markdown",
      "metadata": {
        "id": "tKLmtmeehhRc"
      },
      "source": [
        "# **Feature Relationship**"
      ]
    },
    {
      "cell_type": "code",
      "execution_count": null,
      "metadata": {
        "id": "GYSC1_NrhnqG"
      },
      "outputs": [],
      "source": [
        "df.head(10).plot(kind='density',x='Location',y='Total_Expenditure',title='Location vs Total Expenditure')\n",
        "plt.show()"
      ]
    },
    {
      "cell_type": "code",
      "source": [
        "sns.pairplot(df,vars=['Quantity','Unit_Cost','Total_Expenditure'])\n",
        "plt.show()"
      ],
      "metadata": {
        "id": "F9n3_9ZEv8tz"
      },
      "execution_count": null,
      "outputs": []
    },
    {
      "cell_type": "code",
      "source": [
        "df_corr = df[['Quantity','Unit_Cost','Total_Expenditure']].corr()\n",
        "sns.heatmap(df_corr,annot=True)\n",
        "plt.show()"
      ],
      "metadata": {
        "id": "DZ7qXIHtwZHM"
      },
      "execution_count": null,
      "outputs": []
    },
    {
      "cell_type": "markdown",
      "source": [
        "# **Example Questions About the Data**"
      ],
      "metadata": {
        "id": "jgBLpcfJw_nd"
      }
    },
    {
      "cell_type": "markdown",
      "source": [
        "### **1.People who use online method of payments**"
      ],
      "metadata": {
        "id": "U31nOq_wx1Uj"
      }
    },
    {
      "cell_type": "code",
      "source": [
        "df.query('`Payment Method` == \"Digital Wallet\"')"
      ],
      "metadata": {
        "id": "U_9fo_m_x0Qj"
      },
      "execution_count": null,
      "outputs": []
    },
    {
      "cell_type": "markdown",
      "source": [
        "### **2.Customers who purchase more**"
      ],
      "metadata": {
        "id": "lNM2IbWszbaN"
      }
    },
    {
      "cell_type": "code",
      "source": [
        "df.query('`Total_Expenditure` > 150')"
      ],
      "metadata": {
        "id": "mr3CzB3hztIy"
      },
      "execution_count": null,
      "outputs": []
    },
    {
      "cell_type": "markdown",
      "source": [
        "### **Days with High Sales**"
      ],
      "metadata": {
        "id": "PrawnGkV0p-4"
      }
    },
    {
      "cell_type": "code",
      "source": [
        "df['Transaction Date'].value_counts()"
      ],
      "metadata": {
        "id": "uhzrR0Hf0Nni"
      },
      "execution_count": null,
      "outputs": []
    }
  ],
  "metadata": {
    "colab": {
      "provenance": [],
      "include_colab_link": true
    },
    "kernelspec": {
      "display_name": "Python 3",
      "name": "python3"
    },
    "language_info": {
      "name": "python"
    }
  },
  "nbformat": 4,
  "nbformat_minor": 0
}